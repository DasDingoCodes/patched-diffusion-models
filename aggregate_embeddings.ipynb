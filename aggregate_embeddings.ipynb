{
 "cells": [
  {
   "cell_type": "code",
   "execution_count": 2,
   "metadata": {},
   "outputs": [],
   "source": [
    "import torch\n",
    "import numpy as np\n",
    "from pathlib import Path"
   ]
  },
  {
   "cell_type": "code",
   "execution_count": 3,
   "metadata": {},
   "outputs": [],
   "source": [
    "from tempfile import mkdtemp"
   ]
  },
  {
   "cell_type": "code",
   "execution_count": 12,
   "metadata": {},
   "outputs": [
    {
     "name": "stdout",
     "output_type": "stream",
     "text": [
      "29975/30000\r"
     ]
    }
   ],
   "source": [
    "num_imgs = 30000\n",
    "texts_per_img = 10\n",
    "path_embeddings_dir = Path(\"data/CelebAMask-HQ/descriptions_embedded/\")\n",
    "\n",
    "all_embeddings = None\n",
    "for i in range(num_imgs):\n",
    "    if i % 25 == 0:\n",
    "        print(f\"{i}/{num_imgs}\", end=\"\\r\")\n",
    "    path_element_dir = path_embeddings_dir / f\"{i}\"\n",
    "    element_tensor = None\n",
    "    for j in range(texts_per_img):\n",
    "        path_embedding = path_element_dir / f\"{j}.pt\"\n",
    "        embedding = torch.load(path_embedding)\n",
    "        embedding = embedding.unsqueeze(0)\n",
    "        if element_tensor == None:\n",
    "            element_tensor = embedding\n",
    "        else:\n",
    "            element_tensor = torch.concat((element_tensor, embedding))\n",
    "    element_tensor = element_tensor.unsqueeze(0)\n",
    "    if all_embeddings == None:\n",
    "        all_embeddings = element_tensor\n",
    "    else:\n",
    "        all_embeddings = torch.concat((all_embeddings, element_tensor))"
   ]
  },
  {
   "cell_type": "code",
   "execution_count": 13,
   "metadata": {},
   "outputs": [
    {
     "data": {
      "text/plain": [
       "torch.Size([30000, 10, 384])"
      ]
     },
     "execution_count": 13,
     "metadata": {},
     "output_type": "execute_result"
    }
   ],
   "source": [
    "all_embeddings.shape"
   ]
  },
  {
   "cell_type": "code",
   "execution_count": 14,
   "metadata": {},
   "outputs": [],
   "source": [
    "path_embeddings_all = Path(\"data/CelebAMask-HQ/description_embeddings.pt\")\n",
    "torch.save(all_embeddings, path_embeddings_all)"
   ]
  }
 ],
 "metadata": {
  "kernelspec": {
   "display_name": "my_pytorch",
   "language": "python",
   "name": "python3"
  },
  "language_info": {
   "codemirror_mode": {
    "name": "ipython",
    "version": 3
   },
   "file_extension": ".py",
   "mimetype": "text/x-python",
   "name": "python",
   "nbconvert_exporter": "python",
   "pygments_lexer": "ipython3",
   "version": "3.8.0"
  },
  "orig_nbformat": 4
 },
 "nbformat": 4,
 "nbformat_minor": 2
}
