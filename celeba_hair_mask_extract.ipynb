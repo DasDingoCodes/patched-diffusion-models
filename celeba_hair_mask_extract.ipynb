{
 "cells": [
  {
   "cell_type": "code",
   "execution_count": 1,
   "metadata": {},
   "outputs": [],
   "source": [
    "from pathlib import Path\n",
    "import shutil"
   ]
  },
  {
   "cell_type": "code",
   "execution_count": 2,
   "metadata": {},
   "outputs": [],
   "source": [
    "path_celeba_mask_anno_dir = Path(\"data/CelebAMask-HQ/CelebAMask-HQ-mask-anno/\")\n",
    "path_celeba_hair_mask_dir = Path(\"data/CelebAMask-HQ/hair_masks/\")\n",
    "path_celeba_hair_mask_dir.mkdir(parents=True, exist_ok=True)"
   ]
  },
  {
   "cell_type": "code",
   "execution_count": 10,
   "metadata": {},
   "outputs": [],
   "source": [
    "subdirs = [x for x in path_celeba_mask_anno_dir.iterdir() if x.is_dir()]\n",
    "\n",
    "for subdir in subdirs:\n",
    "    for mask_file in subdir.iterdir():\n",
    "        if \"hair\" not in mask_file.name:\n",
    "            continue\n",
    "        index = mask_file.name.split(\"_\")[0]\n",
    "        index = str(int(index))\n",
    "        path_new_file = path_celeba_hair_mask_dir / f\"{index}.png\"\n",
    "        shutil.copy(mask_file, path_new_file)"
   ]
  }
 ],
 "metadata": {
  "kernelspec": {
   "display_name": "Python 3.8.0 ('my_pytorch')",
   "language": "python",
   "name": "python3"
  },
  "language_info": {
   "codemirror_mode": {
    "name": "ipython",
    "version": 3
   },
   "file_extension": ".py",
   "mimetype": "text/x-python",
   "name": "python",
   "nbconvert_exporter": "python",
   "pygments_lexer": "ipython3",
   "version": "3.8.0"
  },
  "orig_nbformat": 4,
  "vscode": {
   "interpreter": {
    "hash": "2116bc247867260437824123107bc557845c6b64b66553a13cb3a18fb919c299"
   }
  }
 },
 "nbformat": 4,
 "nbformat_minor": 2
}
