{
 "cells": [
  {
   "cell_type": "code",
   "execution_count": 8,
   "metadata": {},
   "outputs": [],
   "source": [
    "from pathlib import Path\n",
    "import shutil\n",
    "import numpy as np\n",
    "from skimage.io import imsave"
   ]
  },
  {
   "cell_type": "code",
   "execution_count": 2,
   "metadata": {},
   "outputs": [],
   "source": [
    "path_celeba_image_dir = Path(\"data/CelebAMask-HQ/CelebA-HQ-img\")\n",
    "path_celeba_mask_anno_dir = Path(\"data/CelebAMask-HQ/CelebAMask-HQ-mask-anno/\")\n",
    "path_celeba_hair_mask_dir = Path(\"data/CelebAMask-HQ/hair_masks/\")\n",
    "path_celeba_hair_mask_dir.mkdir(parents=True, exist_ok=True)"
   ]
  },
  {
   "cell_type": "code",
   "execution_count": 5,
   "metadata": {},
   "outputs": [
    {
     "name": "stdout",
     "output_type": "stream",
     "text": [
      "19999\r"
     ]
    }
   ],
   "source": [
    "subdirs = [x for x in path_celeba_mask_anno_dir.iterdir() if x.is_dir()]\n",
    "\n",
    "for subdir in subdirs:\n",
    "    for mask_file in subdir.iterdir():\n",
    "        if \"hair\" not in mask_file.name:\n",
    "            continue\n",
    "        index = mask_file.name.split(\"_\")[0]\n",
    "        index = str(int(index))\n",
    "        print(index, end=\"\\r\")\n",
    "        path_new_file = path_celeba_hair_mask_dir / f\"{index}.png\"\n",
    "        if path_new_file.exists() == False:\n",
    "            shutil.copy(mask_file, path_new_file)"
   ]
  },
  {
   "cell_type": "code",
   "execution_count": 11,
   "metadata": {},
   "outputs": [
    {
     "name": "stdout",
     "output_type": "stream",
     "text": [
      "data\\CelebAMask-HQ\\hair_masks\\9947.pngg\r"
     ]
    }
   ],
   "source": [
    "black_img = np.zeros((512, 512, 3), dtype = \"uint8\")\n",
    "\n",
    "for image in path_celeba_image_dir.iterdir():\n",
    "    index = image.stem\n",
    "    path_mask_file = path_celeba_hair_mask_dir / f\"{index}.png\"\n",
    "    if path_mask_file.exists() == False:\n",
    "        imsave(path_mask_file, black_img, check_contrast=False)"
   ]
  }
 ],
 "metadata": {
  "kernelspec": {
   "display_name": "Python 3.8.0 ('my_pytorch')",
   "language": "python",
   "name": "python3"
  },
  "language_info": {
   "codemirror_mode": {
    "name": "ipython",
    "version": 3
   },
   "file_extension": ".py",
   "mimetype": "text/x-python",
   "name": "python",
   "nbconvert_exporter": "python",
   "pygments_lexer": "ipython3",
   "version": "3.8.0"
  },
  "orig_nbformat": 4,
  "vscode": {
   "interpreter": {
    "hash": "2116bc247867260437824123107bc557845c6b64b66553a13cb3a18fb919c299"
   }
  }
 },
 "nbformat": 4,
 "nbformat_minor": 2
}
