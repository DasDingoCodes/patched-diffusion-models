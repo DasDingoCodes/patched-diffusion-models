{
 "cells": [
  {
   "cell_type": "code",
   "execution_count": 13,
   "metadata": {},
   "outputs": [],
   "source": [
    "# Pre-requisite - Import the DictWriter class from csv  module\n",
    "from csv import DictWriter\n",
    "from pathlib import Path\n",
    "  \n",
    "# The list of column names as mentioned in the CSV file\n",
    "headersCSV = ['ID','NAME','SUBJECT']      \n",
    "# The data assigned to the dictionary \n",
    "dict={'ID':'04','NAME':'John','SUBJECT':'Mathematics'}\n",
    "  \n",
    "# Pre-requisite - The CSV file should be manually closed before running this code.\n",
    "\n",
    "path_stats = Path(f'CSVFILE.csv')\n",
    "# First, open the old CSV file in append mode, hence mentioned as 'a'\n",
    "# Then, for the CSV file, create a file object\n",
    "with open(path_stats, 'a', newline='') as f_object:\n",
    "    # Pass the CSV  file object to the Dictwriter() function\n",
    "    # Result - a DictWriter object\n",
    "    dictwriter_object = DictWriter(f_object, fieldnames=headersCSV)\n",
    "    dictwriter_object.writeheader()\n",
    "    # Pass the data in the dictionary as an argument into the writerow() function\n",
    "    dictwriter_object.writerow(dict)\n",
    "    # Close the file object\n",
    "    f_object.close()"
   ]
  }
 ],
 "metadata": {
  "kernelspec": {
   "display_name": "Python 3.8.0 ('my_pytorch')",
   "language": "python",
   "name": "python3"
  },
  "language_info": {
   "codemirror_mode": {
    "name": "ipython",
    "version": 3
   },
   "file_extension": ".py",
   "mimetype": "text/x-python",
   "name": "python",
   "nbconvert_exporter": "python",
   "pygments_lexer": "ipython3",
   "version": "3.8.0"
  },
  "orig_nbformat": 4,
  "vscode": {
   "interpreter": {
    "hash": "2116bc247867260437824123107bc557845c6b64b66553a13cb3a18fb919c299"
   }
  }
 },
 "nbformat": 4,
 "nbformat_minor": 2
}
