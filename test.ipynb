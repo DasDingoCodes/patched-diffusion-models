{
 "cells": [
  {
   "cell_type": "code",
   "execution_count": 1,
   "metadata": {},
   "outputs": [],
   "source": [
    "import torch\n",
    "from torchmetrics.image.fid import FrechetInceptionDistance\n",
    "import torchvision\n",
    "from torch.utils.data import DataLoader, random_split\n",
    "from pathlib import Path"
   ]
  },
  {
   "cell_type": "code",
   "execution_count": 5,
   "metadata": {},
   "outputs": [],
   "source": [
    "sample_percentage = 0.1\n",
    "transforms = torchvision.transforms.Compose([\n",
    "    torchvision.transforms.Resize(64),  # args.image_size + 1/4 *args.image_size\n",
    "    torchvision.transforms.ToTensor(),\n",
    "])\n",
    "dataset = torchvision.datasets.ImageFolder(Path(f\"data/celeba\"), transform=transforms)\n",
    "sample_dataset, train_dataset = random_split(dataset, (sample_percentage, 1.0 - sample_percentage))\n",
    "train_dataloader = DataLoader(train_dataset, batch_size=32, shuffle=True)\n",
    "sample_dataloader = DataLoader(sample_dataset, batch_size=32, shuffle=True)"
   ]
  },
  {
   "cell_type": "code",
   "execution_count": 14,
   "metadata": {},
   "outputs": [],
   "source": [
    "fid = FrechetInceptionDistance(feature=64, normalize=True, reset_real_features=False)"
   ]
  },
  {
   "cell_type": "code",
   "execution_count": 6,
   "metadata": {},
   "outputs": [],
   "source": [
    "real_images, _ = next(iter(sample_dataloader))"
   ]
  },
  {
   "cell_type": "code",
   "execution_count": 10,
   "metadata": {},
   "outputs": [
    {
     "data": {
      "text/plain": [
       "tensor(0.)"
      ]
     },
     "execution_count": 10,
     "metadata": {},
     "output_type": "execute_result"
    }
   ],
   "source": [
    "real_images.min()"
   ]
  },
  {
   "cell_type": "code",
   "execution_count": 15,
   "metadata": {},
   "outputs": [],
   "source": [
    "for _ in range(10):\n",
    "    real_images, _ = next(iter(sample_dataloader))\n",
    "    fid.update(real_images, real=True)"
   ]
  },
  {
   "cell_type": "code",
   "execution_count": 17,
   "metadata": {},
   "outputs": [
    {
     "name": "stdout",
     "output_type": "stream",
     "text": [
      "tensor(0.0194)\n",
      "tensor(0.0154)\n",
      "tensor(0.0191)\n",
      "tensor(0.0190)\n",
      "tensor(0.0228)\n",
      "tensor(0.0253)\n",
      "tensor(0.0290)\n",
      "tensor(0.0334)\n",
      "tensor(0.0310)\n",
      "tensor(0.0301)\n"
     ]
    }
   ],
   "source": [
    "for _ in range(10):\n",
    "    fake_images, _ = next(iter(train_dataloader))\n",
    "    fid.update(fake_images, real=False)\n",
    "    tmp = fid.compute()\n",
    "    print(tmp)"
   ]
  },
  {
   "cell_type": "code",
   "execution_count": 18,
   "metadata": {},
   "outputs": [
    {
     "data": {
      "text/plain": [
       "634"
      ]
     },
     "execution_count": 18,
     "metadata": {},
     "output_type": "execute_result"
    }
   ],
   "source": [
    "len(sample_dataloader)"
   ]
  },
  {
   "cell_type": "code",
   "execution_count": 19,
   "metadata": {},
   "outputs": [
    {
     "data": {
      "text/plain": [
       "20288"
      ]
     },
     "execution_count": 19,
     "metadata": {},
     "output_type": "execute_result"
    }
   ],
   "source": [
    "634*32"
   ]
  },
  {
   "cell_type": "code",
   "execution_count": 20,
   "metadata": {},
   "outputs": [
    {
     "name": "stdout",
     "output_type": "stream",
     "text": [
      "633\r"
     ]
    }
   ],
   "source": [
    "for i, x in enumerate(sample_dataloader):\n",
    "    print(i, end=\"\\r\")"
   ]
  },
  {
   "cell_type": "code",
   "execution_count": 13,
   "metadata": {},
   "outputs": [
    {
     "data": {
      "text/plain": [
       "tensor(0.0331)"
      ]
     },
     "execution_count": 13,
     "metadata": {},
     "output_type": "execute_result"
    }
   ],
   "source": [
    "fid.compute()"
   ]
  },
  {
   "cell_type": "code",
   "execution_count": 34,
   "metadata": {},
   "outputs": [
    {
     "name": "stdout",
     "output_type": "stream",
     "text": [
      "Batches in dataset: 6332\n",
      "99/6332\r"
     ]
    }
   ],
   "source": [
    "transforms = torchvision.transforms.Compose([\n",
    "    torchvision.transforms.Resize(299),  # args.image_size + 1/4 *args.image_size\n",
    "    torchvision.transforms.ToTensor(),\n",
    "])\n",
    "dataset = torchvision.datasets.ImageFolder(Path(f\"data/celeba\"), transform=transforms)\n",
    "\n",
    "fid = FrechetInceptionDistance(feature=64, normalize=True, reset_real_features=False)\n",
    "\n",
    "whole_dataset = DataLoader(dataset, batch_size=32)\n",
    "print(f\"Batches in dataset: {len(whole_dataset)}\")\n",
    "for i, (x, _) in enumerate(whole_dataset):\n",
    "    if i == 100:\n",
    "        break\n",
    "    print(f\"{i}/{len(whole_dataset)}\", end=\"\\r\")\n",
    "    fid.update(x, real=True)"
   ]
  },
  {
   "cell_type": "code",
   "execution_count": 37,
   "metadata": {},
   "outputs": [
    {
     "name": "stdout",
     "output_type": "stream",
     "text": [
      "tensor(0.0562)\n",
      "tensor(0.2286)\n",
      "tensor(0.4195)\n",
      "tensor(0.2409)\n",
      "tensor(0.6310)\n",
      "tensor(0.3374)\n",
      "tensor(0.2287)\n",
      "tensor(0.2100)\n",
      "tensor(0.3285)\n",
      "tensor(0.2634)\n"
     ]
    }
   ],
   "source": [
    "for _ in range(10):\n",
    "    fake_images, _ = next(iter(train_dataloader))\n",
    "    fid.update(fake_images, real=False)\n",
    "    tmp = fid.compute()\n",
    "    print(tmp)\n",
    "    fid.reset()"
   ]
  },
  {
   "cell_type": "code",
   "execution_count": 40,
   "metadata": {},
   "outputs": [],
   "source": [
    "fid.update(fake_images, real=False)\n",
    "x = fid.compute()"
   ]
  },
  {
   "cell_type": "code",
   "execution_count": 47,
   "metadata": {},
   "outputs": [
    {
     "data": {
      "text/plain": [
       "0.26711198687553406"
      ]
     },
     "execution_count": 47,
     "metadata": {},
     "output_type": "execute_result"
    }
   ],
   "source": [
    "x.item()"
   ]
  },
  {
   "cell_type": "code",
   "execution_count": 31,
   "metadata": {},
   "outputs": [
    {
     "name": "stdout",
     "output_type": "stream",
     "text": [
      "Here I am\n",
      "Else\n"
     ]
    }
   ],
   "source": [
    "def test(max_iter: int = None):\n",
    "    if type(max_iter) == int and 23 < max_iter:\n",
    "        print(\"Here I am\")\n",
    "    else:\n",
    "        print(\"Else\")\n",
    "\n",
    "test(42)\n",
    "test(None)"
   ]
  },
  {
   "cell_type": "code",
   "execution_count": 24,
   "metadata": {},
   "outputs": [
    {
     "name": "stdout",
     "output_type": "stream",
     "text": [
      "<class 'list'>\n",
      "[tensor([[[[0.9922, 0.9922, 0.9922,  ..., 0.9961, 0.9961, 0.9961],\n",
      "          [0.9922, 0.9922, 0.9922,  ..., 0.9961, 0.9961, 0.9961],\n",
      "          [0.9922, 0.9922, 0.9922,  ..., 0.9961, 0.9961, 0.9961],\n",
      "          ...,\n",
      "          [0.5098, 0.5255, 0.5451,  ..., 0.4627, 0.4627, 0.4627],\n",
      "          [0.6000, 0.6392, 0.6980,  ..., 0.4667, 0.4667, 0.4667],\n",
      "          [0.6588, 0.7137, 0.8000,  ..., 0.4706, 0.4706, 0.4706]],\n",
      "\n",
      "         [[0.9059, 0.9059, 0.9059,  ..., 0.9333, 0.9333, 0.9333],\n",
      "          [0.9059, 0.9059, 0.9059,  ..., 0.9333, 0.9333, 0.9333],\n",
      "          [0.9059, 0.9059, 0.9059,  ..., 0.9333, 0.9333, 0.9333],\n",
      "          ...,\n",
      "          [0.2431, 0.2588, 0.2784,  ..., 0.2000, 0.2000, 0.2000],\n",
      "          [0.3333, 0.3725, 0.4314,  ..., 0.1961, 0.1961, 0.1961],\n",
      "          [0.3922, 0.4471, 0.5333,  ..., 0.1961, 0.1961, 0.1961]],\n",
      "\n",
      "         [[0.7608, 0.7608, 0.7608,  ..., 0.8706, 0.8706, 0.8706],\n",
      "          [0.7608, 0.7608, 0.7608,  ..., 0.8706, 0.8706, 0.8706],\n",
      "          [0.7608, 0.7608, 0.7608,  ..., 0.8706, 0.8706, 0.8706],\n",
      "          ...,\n",
      "          [0.0588, 0.0745, 0.0941,  ..., 0.0941, 0.0941, 0.0941],\n",
      "          [0.1490, 0.1882, 0.2471,  ..., 0.0941, 0.0941, 0.0941],\n",
      "          [0.2078, 0.2627, 0.3490,  ..., 0.0941, 0.0941, 0.0941]]],\n",
      "\n",
      "\n",
      "        [[[0.2627, 0.2588, 0.2549,  ..., 0.3216, 0.3255, 0.3294],\n",
      "          [0.2627, 0.2588, 0.2549,  ..., 0.3216, 0.3255, 0.3294],\n",
      "          [0.2627, 0.2588, 0.2549,  ..., 0.3216, 0.3255, 0.3294],\n",
      "          ...,\n",
      "          [0.8902, 0.8824, 0.8706,  ..., 0.5412, 0.5412, 0.5412],\n",
      "          [0.8902, 0.8824, 0.8706,  ..., 0.5451, 0.5451, 0.5451],\n",
      "          [0.8902, 0.8824, 0.8706,  ..., 0.5451, 0.5451, 0.5451]],\n",
      "\n",
      "         [[0.2039, 0.2000, 0.1961,  ..., 0.3098, 0.3137, 0.3176],\n",
      "          [0.2039, 0.2000, 0.1961,  ..., 0.3098, 0.3137, 0.3176],\n",
      "          [0.2039, 0.2000, 0.1961,  ..., 0.3098, 0.3137, 0.3176],\n",
      "          ...,\n",
      "          [0.8824, 0.8745, 0.8627,  ..., 0.4667, 0.4667, 0.4667],\n",
      "          [0.8824, 0.8745, 0.8627,  ..., 0.4667, 0.4667, 0.4667],\n",
      "          [0.8824, 0.8745, 0.8627,  ..., 0.4667, 0.4667, 0.4667]],\n",
      "\n",
      "         [[0.1765, 0.1725, 0.1686,  ..., 0.2824, 0.2863, 0.2902],\n",
      "          [0.1765, 0.1725, 0.1686,  ..., 0.2824, 0.2863, 0.2902],\n",
      "          [0.1765, 0.1725, 0.1686,  ..., 0.2824, 0.2863, 0.2902],\n",
      "          ...,\n",
      "          [0.9255, 0.9176, 0.9059,  ..., 0.4392, 0.4392, 0.4392],\n",
      "          [0.9255, 0.9176, 0.9059,  ..., 0.4392, 0.4392, 0.4392],\n",
      "          [0.9255, 0.9176, 0.9059,  ..., 0.4392, 0.4392, 0.4392]]],\n",
      "\n",
      "\n",
      "        [[[1.0000, 1.0000, 1.0000,  ..., 1.0000, 1.0000, 1.0000],\n",
      "          [1.0000, 1.0000, 1.0000,  ..., 1.0000, 1.0000, 1.0000],\n",
      "          [1.0000, 1.0000, 1.0000,  ..., 1.0000, 1.0000, 1.0000],\n",
      "          ...,\n",
      "          [0.5294, 0.5294, 0.5333,  ..., 0.3686, 0.3686, 0.3686],\n",
      "          [0.5216, 0.5216, 0.5255,  ..., 0.3686, 0.3686, 0.3686],\n",
      "          [0.5137, 0.5137, 0.5176,  ..., 0.3686, 0.3686, 0.3686]],\n",
      "\n",
      "         [[1.0000, 1.0000, 1.0000,  ..., 1.0000, 1.0000, 1.0000],\n",
      "          [1.0000, 1.0000, 1.0000,  ..., 1.0000, 1.0000, 1.0000],\n",
      "          [1.0000, 1.0000, 1.0000,  ..., 1.0000, 1.0000, 1.0000],\n",
      "          ...,\n",
      "          [0.3922, 0.3961, 0.4000,  ..., 0.3686, 0.3686, 0.3686],\n",
      "          [0.3882, 0.3922, 0.3961,  ..., 0.3686, 0.3686, 0.3686],\n",
      "          [0.3882, 0.3882, 0.3922,  ..., 0.3686, 0.3686, 0.3686]],\n",
      "\n",
      "         [[1.0000, 1.0000, 1.0000,  ..., 1.0000, 1.0000, 1.0000],\n",
      "          [1.0000, 1.0000, 1.0000,  ..., 1.0000, 1.0000, 1.0000],\n",
      "          [1.0000, 1.0000, 1.0000,  ..., 1.0000, 1.0000, 1.0000],\n",
      "          ...,\n",
      "          [0.3059, 0.3059, 0.3020,  ..., 0.3765, 0.3765, 0.3765],\n",
      "          [0.3059, 0.3059, 0.3020,  ..., 0.3765, 0.3765, 0.3765],\n",
      "          [0.3059, 0.3059, 0.3020,  ..., 0.3765, 0.3765, 0.3765]]],\n",
      "\n",
      "\n",
      "        ...,\n",
      "\n",
      "\n",
      "        [[[0.2745, 0.2706, 0.2667,  ..., 0.3765, 0.3725, 0.3686],\n",
      "          [0.2706, 0.2667, 0.2627,  ..., 0.3961, 0.3922, 0.3882],\n",
      "          [0.2627, 0.2627, 0.2588,  ..., 0.4275, 0.4196, 0.4157],\n",
      "          ...,\n",
      "          [0.0000, 0.0000, 0.0000,  ..., 0.0000, 0.0000, 0.0000],\n",
      "          [0.0000, 0.0000, 0.0000,  ..., 0.0000, 0.0000, 0.0000],\n",
      "          [0.0000, 0.0000, 0.0000,  ..., 0.0000, 0.0000, 0.0000]],\n",
      "\n",
      "         [[0.2078, 0.2039, 0.2000,  ..., 0.3137, 0.3098, 0.3059],\n",
      "          [0.2039, 0.2000, 0.1961,  ..., 0.3333, 0.3255, 0.3216],\n",
      "          [0.1961, 0.1961, 0.1922,  ..., 0.3608, 0.3529, 0.3490],\n",
      "          ...,\n",
      "          [0.0000, 0.0000, 0.0000,  ..., 0.0000, 0.0000, 0.0000],\n",
      "          [0.0000, 0.0000, 0.0000,  ..., 0.0000, 0.0000, 0.0000],\n",
      "          [0.0000, 0.0000, 0.0000,  ..., 0.0000, 0.0000, 0.0000]],\n",
      "\n",
      "         [[0.1059, 0.1020, 0.0980,  ..., 0.2510, 0.2471, 0.2431],\n",
      "          [0.1020, 0.0980, 0.0941,  ..., 0.2706, 0.2627, 0.2588],\n",
      "          [0.0941, 0.0941, 0.0902,  ..., 0.2980, 0.2902, 0.2863],\n",
      "          ...,\n",
      "          [0.0000, 0.0000, 0.0000,  ..., 0.0000, 0.0000, 0.0000],\n",
      "          [0.0000, 0.0000, 0.0000,  ..., 0.0000, 0.0000, 0.0000],\n",
      "          [0.0000, 0.0000, 0.0000,  ..., 0.0000, 0.0000, 0.0000]]],\n",
      "\n",
      "\n",
      "        [[[0.5725, 0.5725, 0.5725,  ..., 0.4588, 0.4588, 0.4588],\n",
      "          [0.5725, 0.5725, 0.5725,  ..., 0.4588, 0.4588, 0.4588],\n",
      "          [0.5725, 0.5725, 0.5725,  ..., 0.4588, 0.4588, 0.4588],\n",
      "          ...,\n",
      "          [0.1412, 0.1412, 0.1412,  ..., 0.7059, 0.7059, 0.7059],\n",
      "          [0.1412, 0.1412, 0.1412,  ..., 0.7059, 0.7059, 0.7059],\n",
      "          [0.1412, 0.1412, 0.1412,  ..., 0.7059, 0.7059, 0.7059]],\n",
      "\n",
      "         [[0.5255, 0.5255, 0.5255,  ..., 0.4471, 0.4471, 0.4471],\n",
      "          [0.5255, 0.5255, 0.5255,  ..., 0.4471, 0.4471, 0.4471],\n",
      "          [0.5255, 0.5255, 0.5255,  ..., 0.4471, 0.4471, 0.4471],\n",
      "          ...,\n",
      "          [0.1529, 0.1529, 0.1529,  ..., 0.7020, 0.7020, 0.7020],\n",
      "          [0.1529, 0.1529, 0.1529,  ..., 0.7020, 0.7020, 0.7020],\n",
      "          [0.1529, 0.1529, 0.1529,  ..., 0.7020, 0.7020, 0.7020]],\n",
      "\n",
      "         [[0.4235, 0.4235, 0.4235,  ..., 0.3882, 0.3882, 0.3882],\n",
      "          [0.4235, 0.4235, 0.4235,  ..., 0.3882, 0.3882, 0.3882],\n",
      "          [0.4235, 0.4235, 0.4235,  ..., 0.3882, 0.3882, 0.3882],\n",
      "          ...,\n",
      "          [0.1725, 0.1725, 0.1725,  ..., 0.6824, 0.6824, 0.6824],\n",
      "          [0.1725, 0.1725, 0.1725,  ..., 0.6824, 0.6824, 0.6824],\n",
      "          [0.1725, 0.1725, 0.1725,  ..., 0.6824, 0.6824, 0.6824]]],\n",
      "\n",
      "\n",
      "        [[[0.1569, 0.1569, 0.1569,  ..., 0.2039, 0.2039, 0.2039],\n",
      "          [0.1569, 0.1569, 0.1569,  ..., 0.2039, 0.2039, 0.2039],\n",
      "          [0.1569, 0.1569, 0.1569,  ..., 0.2039, 0.2039, 0.2039],\n",
      "          ...,\n",
      "          [0.3216, 0.3216, 0.3176,  ..., 0.2627, 0.2627, 0.2627],\n",
      "          [0.3216, 0.3216, 0.3176,  ..., 0.2627, 0.2627, 0.2627],\n",
      "          [0.3216, 0.3216, 0.3176,  ..., 0.2627, 0.2627, 0.2627]],\n",
      "\n",
      "         [[0.4863, 0.4863, 0.4863,  ..., 0.5294, 0.5294, 0.5294],\n",
      "          [0.4863, 0.4863, 0.4863,  ..., 0.5294, 0.5294, 0.5294],\n",
      "          [0.4863, 0.4863, 0.4863,  ..., 0.5294, 0.5294, 0.5294],\n",
      "          ...,\n",
      "          [0.3098, 0.3098, 0.3059,  ..., 0.2549, 0.2549, 0.2549],\n",
      "          [0.3098, 0.3098, 0.3059,  ..., 0.2549, 0.2549, 0.2549],\n",
      "          [0.3098, 0.3098, 0.3059,  ..., 0.2549, 0.2549, 0.2549]],\n",
      "\n",
      "         [[0.8392, 0.8392, 0.8392,  ..., 0.8902, 0.8902, 0.8902],\n",
      "          [0.8392, 0.8392, 0.8392,  ..., 0.8902, 0.8902, 0.8902],\n",
      "          [0.8392, 0.8392, 0.8392,  ..., 0.8902, 0.8902, 0.8902],\n",
      "          ...,\n",
      "          [0.3843, 0.3843, 0.3804,  ..., 0.3059, 0.3059, 0.3059],\n",
      "          [0.3843, 0.3843, 0.3804,  ..., 0.3059, 0.3059, 0.3059],\n",
      "          [0.3843, 0.3843, 0.3804,  ..., 0.3059, 0.3059, 0.3059]]]]), tensor([0, 0, 0, 0, 0, 0, 0, 0, 0, 0, 0, 0, 0, 0, 0, 0, 0, 0, 0, 0, 0, 0, 0, 0,\n",
      "        0, 0, 0, 0, 0, 0, 0, 0])]\n"
     ]
    }
   ],
   "source": [
    "\n",
    "for i, x in enumerate(whole_dataset):\n",
    "    print(f\"{i}/{len(whole_dataset)}\", end=\"\\r\")\n",
    "    print(type(x))\n",
    "    print(x)\n",
    "    break"
   ]
  }
 ],
 "metadata": {
  "kernelspec": {
   "display_name": "Python 3.8.0 ('my_pytorch')",
   "language": "python",
   "name": "python3"
  },
  "language_info": {
   "codemirror_mode": {
    "name": "ipython",
    "version": 3
   },
   "file_extension": ".py",
   "mimetype": "text/x-python",
   "name": "python",
   "nbconvert_exporter": "python",
   "pygments_lexer": "ipython3",
   "version": "3.8.0"
  },
  "orig_nbformat": 4,
  "vscode": {
   "interpreter": {
    "hash": "2116bc247867260437824123107bc557845c6b64b66553a13cb3a18fb919c299"
   }
  }
 },
 "nbformat": 4,
 "nbformat_minor": 2
}
