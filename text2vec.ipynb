{
 "cells": [
  {
   "cell_type": "code",
   "execution_count": 1,
   "metadata": {},
   "outputs": [],
   "source": [
    "from sentence_transformers import SentenceTransformer\n",
    "import torch\n",
    "from pathlib import Path\n",
    "\n",
    "\n",
    "model = SentenceTransformer('all-MiniLM-L6-v2')\n",
    "\n",
    "path_descriptions = Path(\"data/CelebAMask-HQ/descriptions/\")\n",
    "path_embeddings = Path(\"data/CelebAMask-HQ/descriptions_embedded\")\n",
    "path_embeddings.mkdir(exist_ok=True, parents=True)\n",
    "texts_per_img = 10\n",
    "total_file_count = len([x for x in path_descriptions.iterdir()])"
   ]
  },
  {
   "cell_type": "code",
   "execution_count": 2,
   "metadata": {},
   "outputs": [
    {
     "name": "stdout",
     "output_type": "stream",
     "text": [
      "29999/30000\r"
     ]
    }
   ],
   "source": [
    "for i in range(total_file_count):\n",
    "    text_file = path_descriptions / f\"{i}.txt\"\n",
    "    index = text_file.stem\n",
    "    print(f\"{index}/{total_file_count}\", end=\"\\r\")\n",
    "    img_descriptions = text_file.read_text().split(\"\\n\")\n",
    "    img_descriptions = [x.strip() for x in img_descriptions if x.strip()][:texts_per_img]\n",
    "    embeddings = model.encode(img_descriptions)\n",
    "    for i, embedding in enumerate(embeddings):\n",
    "        tensor = torch.Tensor(embedding)\n",
    "        path_tensor_dir = path_embeddings / index\n",
    "        path_tensor_dir.mkdir(exist_ok=True, parents=True)\n",
    "        path_tensor = path_tensor_dir / f\"{i}.pt\"\n",
    "        torch.save(tensor, path_tensor)"
   ]
  }
 ],
 "metadata": {
  "kernelspec": {
   "display_name": "my_pytorch",
   "language": "python",
   "name": "python3"
  },
  "language_info": {
   "codemirror_mode": {
    "name": "ipython",
    "version": 3
   },
   "file_extension": ".py",
   "mimetype": "text/x-python",
   "name": "python",
   "nbconvert_exporter": "python",
   "pygments_lexer": "ipython3",
   "version": "3.8.0"
  },
  "orig_nbformat": 4,
  "vscode": {
   "interpreter": {
    "hash": "2116bc247867260437824123107bc557845c6b64b66553a13cb3a18fb919c299"
   }
  }
 },
 "nbformat": 4,
 "nbformat_minor": 2
}
